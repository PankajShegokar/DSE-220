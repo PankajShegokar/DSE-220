{
 "cells": [
  {
   "cell_type": "markdown",
   "metadata": {
    "collapsed": true
   },
   "source": [
    "#SVM classification example\n",
    "#Step1: Import necessary modules"
   ]
  },
  {
   "cell_type": "code",
   "execution_count": 1,
   "metadata": {
    "collapsed": true
   },
   "outputs": [],
   "source": [
    "from sklearn import svm\n",
    "import numpy as np\n",
    "import matplotlib.pyplot as plt\n"
   ]
  },
  {
   "cell_type": "markdown",
   "metadata": {},
   "source": [
    "#Step2: Load and visualise data\n",
    "#Guess the support vectors"
   ]
  },
  {
   "cell_type": "code",
   "execution_count": 2,
   "metadata": {
    "collapsed": false
   },
   "outputs": [],
   "source": [
    "\n",
    "#read in svm data\n",
    "svm_dat = np.genfromtxt('svm.csv',delimiter = ',')\n",
    "class1 = svm_dat[0:5]\n",
    "class2 = svm_dat[5:10]\n",
    "plt.figure()\n",
    "plt.scatter(class1[:,0],class1[:,1], c = 'blue', marker = 'o')\n",
    "plt.scatter(class2[:,0],class2[:,1], c = 'red', marker = 'x')\n",
    "plt.show()"
   ]
  },
  {
   "cell_type": "code",
   "execution_count": 3,
   "metadata": {
    "collapsed": false
   },
   "outputs": [
    {
     "name": "stdout",
     "output_type": "stream",
     "text": [
      "[[-1.214 -1.178  0.   ]\n",
      " [-4.231 -5.235  0.   ]\n",
      " [-2.318 -7.908  0.   ]\n",
      " [-8.435 -1.324  0.   ]\n",
      " [-9.992 -3.456  0.   ]\n",
      " [ 1.123  8.435  1.   ]\n",
      " [ 4.389  3.123  1.   ]\n",
      " [ 1.113  1.888  1.   ]\n",
      " [ 5.312  9.123  1.   ]\n",
      " [ 4.124  8.432  1.   ]]\n"
     ]
    }
   ],
   "source": [
    "print svm_dat\n"
   ]
  },
  {
   "cell_type": "markdown",
   "metadata": {},
   "source": [
    "#Step3: Fit the SVM model onto your data\n",
    "# SVC, NuSVC and LinearSVC are classes capable of performing multi-class classification on a dataset with linear and non linear kernel options."
   ]
  },
  {
   "cell_type": "code",
   "execution_count": 4,
   "metadata": {
    "collapsed": false
   },
   "outputs": [
    {
     "name": "stdout",
     "output_type": "stream",
     "text": [
      "<class 'sklearn.svm.classes.SVC'>\n"
     ]
    }
   ],
   "source": [
    "X = np.column_stack((svm_dat[:,0],svm_dat[:,1])) #we take 2 features here\n",
    "y = svm_dat[:,2]\n",
    "clf = svm.SVC(kernel='linear')     #other arguments include modifying gamma,degree\n",
    "print type(clf)\n"
   ]
  },
  {
   "cell_type": "code",
   "execution_count": 5,
   "metadata": {
    "collapsed": false
   },
   "outputs": [
    {
     "data": {
      "text/plain": [
       "SVC(C=1.0, cache_size=200, class_weight=None, coef0=0.0, degree=3, gamma=0.0,\n",
       "  kernel='linear', max_iter=-1, probability=False, random_state=None,\n",
       "  shrinking=True, tol=0.001, verbose=False)"
      ]
     },
     "execution_count": 5,
     "metadata": {},
     "output_type": "execute_result"
    }
   ],
   "source": [
    "clf.fit(X, y)\n",
    "#clf.support_vectors"
   ]
  },
  {
   "cell_type": "markdown",
   "metadata": {
    "collapsed": true
   },
   "source": [
    "\n",
    "#Step4 Keep Calm and Visualise your support vectors and hyper plane"
   ]
  },
  {
   "cell_type": "code",
   "execution_count": 9,
   "metadata": {
    "collapsed": false
   },
   "outputs": [],
   "source": [
    "plt.scatter(class1[:,0],class1[:,1], c = 'blue', marker = 'o',s=20)\n",
    "plt.scatter(class2[:,0],class2[:,1], c = 'red', marker = 'x',s=20)\n",
    "plt.scatter(clf.support_vectors_[0,0],clf.support_vectors_[0,1],c='blue',marker = '*',s=200)\n",
    "plt.scatter(clf.support_vectors_[1,0],clf.support_vectors_[1,1],c='red',marker = '<', s = 100)\n",
    "plt.show()"
   ]
  },
  {
   "cell_type": "markdown",
   "metadata": {},
   "source": [
    "#Step 5: Get the separating hyperplane"
   ]
  },
  {
   "cell_type": "code",
   "execution_count": 7,
   "metadata": {
    "collapsed": false
   },
   "outputs": [
    {
     "name": "stdout",
     "output_type": "stream",
     "text": [
      "[ 0.31413503  0.41389686]\n"
     ]
    }
   ],
   "source": [
    "\n",
    "w = clf.coef_[0]\n",
    "print w"
   ]
  },
  {
   "cell_type": "code",
   "execution_count": 8,
   "metadata": {
    "collapsed": false
   },
   "outputs": [],
   "source": [
    "\n",
    "a = -w[0] / w[1]\n",
    "xx = np.linspace(-15, 10)\n",
    "yy = a * xx - (clf.intercept_[0]) / w[1]\n",
    "t = np.linspace(-15,10,100) # 100 linearly spaced numbers\n",
    "plt.plot(xx,yy)\n",
    "plt.show()"
   ]
  },
  {
   "cell_type": "code",
   "execution_count": null,
   "metadata": {
    "collapsed": true
   },
   "outputs": [],
   "source": []
  }
 ],
 "metadata": {
  "kernelspec": {
   "display_name": "Python 2",
   "language": "python",
   "name": "python2"
  },
  "language_info": {
   "codemirror_mode": {
    "name": "ipython",
    "version": 2
   },
   "file_extension": ".py",
   "mimetype": "text/x-python",
   "name": "python",
   "nbconvert_exporter": "python",
   "pygments_lexer": "ipython2",
   "version": "2.7.9"
  }
 },
 "nbformat": 4,
 "nbformat_minor": 0
}
