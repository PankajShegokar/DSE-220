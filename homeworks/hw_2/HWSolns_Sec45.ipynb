{
 "cells": [
  {
   "cell_type": "code",
   "execution_count": 16,
   "metadata": {
    "collapsed": false
   },
   "outputs": [],
   "source": [
    "from sklearn.datasets import load_digits"
   ]
  },
  {
   "cell_type": "code",
   "execution_count": 29,
   "metadata": {
    "collapsed": false
   },
   "outputs": [],
   "source": [
    "digits = load_digits()\n",
    "X = digits.data\n",
    "y = digits.target\n",
    "\n",
    "for i in range(len(y)):\n",
    "    if (y[i] == 3):\n",
    "        y[i] = 1\n",
    "    else:\n",
    "        y[i] = 0"
   ]
  },
  {
   "cell_type": "code",
   "execution_count": 30,
   "metadata": {
    "collapsed": false
   },
   "outputs": [],
   "source": [
    "from sklearn import neighbors\n",
    "from sklearn.model_selection import train_test_split\n",
    "import random\n",
    "\n",
    "l = [i for i in range(len(X))]\n",
    "random.shuffle(l)\n",
    "X_train = []\n",
    "y_train = []\n",
    "\n",
    "for i in l:\n",
    "    X_train.append(X[i])\n",
    "    y_train.append(y[i])\n",
    "\n",
    "X_test = X_train[-1300:]\n",
    "X_train = X_train[:-1300]\n",
    "y_test = y_train[-1300:]\n",
    "y_train = y_train[:-1300]\n",
    "\n",
    "clf = neighbors.KNeighborsClassifier(5, p=3)\n",
    "\n",
    "clf.fit(X_train, y_train)\n",
    "\n",
    "pred = clf.predict(X_test)"
   ]
  },
  {
   "cell_type": "code",
   "execution_count": 31,
   "metadata": {
    "collapsed": false
   },
   "outputs": [
    {
     "name": "stdout",
     "output_type": "stream",
     "text": [
      "0.989230769231\n"
     ]
    }
   ],
   "source": [
    "from sklearn.metrics import accuracy_score\n",
    "\n",
    "print (accuracy_score(pred, y_test))"
   ]
  },
  {
   "cell_type": "code",
   "execution_count": 32,
   "metadata": {
    "collapsed": false
   },
   "outputs": [
    {
     "name": "stdout",
     "output_type": "stream",
     "text": [
      "0.9140625\n",
      "0.0859375\n",
      "0.975\n",
      "0.9140625\n",
      "0.9892307692307692\n",
      "0.9974402730375427\n"
     ]
    }
   ],
   "source": [
    "tp = 0\n",
    "tn = 0\n",
    "fn = 0\n",
    "fp = 0\n",
    "\n",
    "for i in range(len(y_test)):\n",
    "    if (y_test[i] == pred[i]):\n",
    "        if pred[i] == 1:\n",
    "            tp += 1\n",
    "        else:\n",
    "            tn += 1\n",
    "    else:    \n",
    "        if (y_test[i] == 1):\n",
    "            fn += 1\n",
    "        else:\n",
    "            fp += 1\n",
    "            \n",
    "tpr = tp/(tp+fn)\n",
    "recall = tpr\n",
    "fnr = fn/(tp+fn)\n",
    "precision = tp/(tp+fp)\n",
    "specificity = tn/(tn+fp)\n",
    "sensitivity = tp/(tp+fn)\n",
    "accuracy = (tp+tn)/(tp+tn+fn+fp)\n",
    "\n",
    "print (tpr)\n",
    "print (fnr)\n",
    "print (precision)\n",
    "print (recall)\n",
    "print (accuracy)\n",
    "print (specificity)"
   ]
  },
  {
   "cell_type": "code",
   "execution_count": 33,
   "metadata": {
    "collapsed": true
   },
   "outputs": [],
   "source": [
    "from sklearn.datasets import load_diabetes\n",
    "\n",
    "data1 = load_diabetes()\n",
    "X = data1.data\n",
    "y = data1.target"
   ]
  },
  {
   "cell_type": "code",
   "execution_count": 34,
   "metadata": {
    "collapsed": true
   },
   "outputs": [],
   "source": [
    "from sklearn.model_selection import train_test_split\n",
    "\n",
    "X_train, X_test, y_train, y_test = train_test_split(X, y, random_state = 5)"
   ]
  },
  {
   "cell_type": "code",
   "execution_count": 36,
   "metadata": {
    "collapsed": false
   },
   "outputs": [
    {
     "name": "stdout",
     "output_type": "stream",
     "text": [
      "28555.0214944\n",
      "158.520100415\n"
     ]
    }
   ],
   "source": [
    "from sklearn.metrics import mean_squared_error, mean_absolute_error\n",
    "import numpy as np\n",
    "\n",
    "theta,residuals,rank,s = np.linalg.lstsq(X_train, y_train)\n",
    "predictions = np.dot(X_test, theta)\n",
    "print (mean_squared_error(y_test, predictions))\n",
    "print (mean_absolute_error(y_test, predictions))"
   ]
  },
  {
   "cell_type": "code",
   "execution_count": 38,
   "metadata": {
    "collapsed": false
   },
   "outputs": [
    {
     "name": "stdout",
     "output_type": "stream",
     "text": [
      "26390.9220715\n",
      "27393.6472803\n",
      "26434.5802128\n",
      "26644.2591277\n",
      "26614.5913856\n",
      "26589.8639416\n",
      "26605.3305118\n",
      "26866.7980856\n",
      "26708.7614129\n",
      "0\n",
      "1\n"
     ]
    }
   ],
   "source": [
    "import numpy\n",
    "\n",
    "def report_ablation_mse(X, y, X_test, y_test):\n",
    "    mse_list = []\n",
    "    for i in range(len(X[0])-1):\n",
    "        X1 = numpy.delete(X, i+1, 1)\n",
    "        theta,residuals,rank,s = numpy.linalg.lstsq(X1, y)\n",
    "        mse = mean_squared_error(y_test, numpy.dot(numpy.delete(X_test, i+1, 1), theta))\n",
    "        mse_list.append(mse)\n",
    "        print (mse)\n",
    "    print (mse_list.index(min(mse_list)))\n",
    "    print (mse_list.index(max(mse_list)))\n",
    "    \n",
    "report_ablation_mse(X, y, X_test, y_test)"
   ]
  }
 ],
 "metadata": {
  "anaconda-cloud": {},
  "kernelspec": {
   "display_name": "Python [default]",
   "language": "python",
   "name": "python3"
  },
  "language_info": {
   "codemirror_mode": {
    "name": "ipython",
    "version": 3
   },
   "file_extension": ".py",
   "mimetype": "text/x-python",
   "name": "python",
   "nbconvert_exporter": "python",
   "pygments_lexer": "ipython3",
   "version": "3.5.3"
  }
 },
 "nbformat": 4,
 "nbformat_minor": 2
}
