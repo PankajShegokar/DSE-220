{
 "cells": [
  {
   "cell_type": "code",
   "execution_count": 21,
   "metadata": {
    "collapsed": false
   },
   "outputs": [],
   "source": [
    "import numpy as np\n",
    "import pandas as pd\n",
    "# from mnist import MNIST\n",
    "from sklearn.metrics import confusion_matrix\n",
    "from sklearn.mixture import GaussianMixture\n",
    "from sklearn.metrics import accuracy_score\n",
    "import matplotlib.pyplot as plt\n",
    "%matplotlib inline\n"
   ]
  },
  {
   "cell_type": "code",
   "execution_count": 22,
   "metadata": {
    "collapsed": false
   },
   "outputs": [],
   "source": [
    "# mndata =  MNIST('')"
   ]
  },
  {
   "cell_type": "code",
   "execution_count": 23,
   "metadata": {
    "collapsed": false
   },
   "outputs": [],
   "source": [
    "# imgs, labels = mndata.load_training()"
   ]
  },
  {
   "cell_type": "code",
   "execution_count": 24,
   "metadata": {
    "collapsed": false
   },
   "outputs": [],
   "source": [
    "# train_data = pd.DataFrame(imgs)\n",
    "# train_labels = pd.DataFrame(list(labels))"
   ]
  },
  {
   "cell_type": "code",
   "execution_count": 25,
   "metadata": {
    "collapsed": true
   },
   "outputs": [],
   "source": [
    "# imgs, labels = mndata.load_testing()\n",
    "# test_data = pd.DataFrame(imgs)\n",
    "# test_labels = pd.DataFrame(list(labels))"
   ]
  },
  {
   "cell_type": "code",
   "execution_count": 26,
   "metadata": {
    "collapsed": false
   },
   "outputs": [],
   "source": [
    "# train_data_subset = train_data.loc[:5999]\n",
    "# train_labels_subset = train_labels.loc[:5999]\n",
    "# test_data_subset = test_data.loc[:999]\n",
    "# test_labels_subset = test_labels.loc[:999]"
   ]
  },
  {
   "cell_type": "code",
   "execution_count": 27,
   "metadata": {
    "collapsed": false
   },
   "outputs": [],
   "source": [
    "# train_data_subset = train_data_subset/255.0\n",
    "# test_data_subset = test_data_subset/255.0\n",
    "# train_data_subset = train_data_subset.round()\n",
    "# test_data_subset = test_data_subset.round()"
   ]
  },
  {
   "cell_type": "code",
   "execution_count": 28,
   "metadata": {
    "collapsed": true
   },
   "outputs": [],
   "source": [
    "# train_data_subset.to_csv('mnist_train_data.csv', index=False, header=False)\n",
    "# train_labels_subset.to_csv('mnist_train_labels.csv', index=False, header=False)\n",
    "# test_data_subset.to_csv('mnist_test_data.csv', index=False, header=False)\n",
    "# test_labels_subset.to_csv('mnist_test_labels.csv', index=False, header=False)"
   ]
  },
  {
   "cell_type": "code",
   "execution_count": 54,
   "metadata": {
    "collapsed": false
   },
   "outputs": [],
   "source": [
    "train_data = pd.read_csv('mnist_train_data.csv', header=None)\n",
    "train_labels = pd.read_csv('mnist_train_labels.csv', names=['label'])\n",
    "test_data = pd.read_csv('mnist_test_data.csv', header=None)\n",
    "test_labels = pd.read_csv('mnist_test_labels.csv', names=['label'])"
   ]
  },
  {
   "cell_type": "code",
   "execution_count": 34,
   "metadata": {
    "collapsed": false
   },
   "outputs": [],
   "source": [
    "#Question 1\n",
    "# 1 mark: correct answer\n",
    "prior = train_labels.groupby(['label'])['label'].count().reset_index(drop=True)/6000"
   ]
  },
  {
   "cell_type": "code",
   "execution_count": 35,
   "metadata": {
    "collapsed": false
   },
   "outputs": [
    {
     "data": {
      "text/plain": [
       "0    0.098667\n",
       "1    0.111833\n",
       "2    0.096833\n",
       "3    0.101333\n",
       "4    0.103833\n",
       "5    0.085667\n",
       "6    0.101333\n",
       "7    0.108500\n",
       "8    0.091833\n",
       "9    0.100167\n",
       "Name: label, dtype: float64"
      ]
     },
     "execution_count": 35,
     "metadata": {},
     "output_type": "execute_result"
    }
   ],
   "source": [
    "prior"
   ]
  },
  {
   "cell_type": "code",
   "execution_count": 36,
   "metadata": {
    "collapsed": false
   },
   "outputs": [],
   "source": [
    "#Question 2\n",
    "# -1 mark: no laplace smoothing\n",
    "# -1 mark: wrong answer, correct approach\n",
    "# -3 marks: wrong approach, no answer\n",
    "\n",
    "data = pd.concat([train_data, train_labels], axis=1)\n",
    "num_data = data.groupby(['label']).sum().reset_index()\n",
    "del num_data['label']\n",
    "num_data = num_data+1"
   ]
  },
  {
   "cell_type": "code",
   "execution_count": 37,
   "metadata": {
    "collapsed": false
   },
   "outputs": [],
   "source": [
    "denom_data = data.groupby(['label'])['label'].count().reset_index(drop=True)\n",
    "denom_data = denom_data + 2\n",
    "likelihood = num_data.divide(denom_data, axis=0)"
   ]
  },
  {
   "cell_type": "code",
   "execution_count": 38,
   "metadata": {
    "collapsed": false
   },
   "outputs": [
    {
     "data": {
      "text/plain": [
       "0   -0.160343\n",
       "1   -0.014970\n",
       "2   -0.316098\n",
       "3   -0.212950\n",
       "4   -0.162990\n",
       "5   -0.340745\n",
       "6   -0.163484\n",
       "7   -0.229673\n",
       "8   -0.133273\n",
       "9   -0.142336\n",
       "dtype: float64"
      ]
     },
     "execution_count": 38,
     "metadata": {},
     "output_type": "execute_result"
    }
   ],
   "source": [
    "np.log(likelihood.max(axis=1))"
   ]
  },
  {
   "cell_type": "code",
   "execution_count": 39,
   "metadata": {
    "collapsed": true
   },
   "outputs": [],
   "source": [
    "test_data_values = test_data.values.tolist()"
   ]
  },
  {
   "cell_type": "code",
   "execution_count": 40,
   "metadata": {
    "collapsed": true
   },
   "outputs": [],
   "source": [
    "likelihood_values = likelihood.values.tolist()"
   ]
  },
  {
   "cell_type": "code",
   "execution_count": 41,
   "metadata": {
    "collapsed": false,
    "scrolled": true
   },
   "outputs": [],
   "source": [
    "#Question 3\n",
    "# -1 mark: wrong answer, correct approach\n",
    "# -2 marks: wrong approach, no answer\n",
    "pred = []\n",
    "for i in range(0,1000):\n",
    "    prob_list = []\n",
    "    for cls in range(0,10):\n",
    "        prob_val = np.log(prior.loc[cls])\n",
    "        for j in range(0,784):\n",
    "            prob_val += test_data_values[i][j]*np.log(likelihood_values[cls][j]) + (1-test_data_values[i][j])*np.log(1-likelihood_values[cls][j])\n",
    "        prob_list.append(prob_val)\n",
    "    pred.append(np.argmax(prob_list))\n",
    "            "
   ]
  },
  {
   "cell_type": "code",
   "execution_count": 42,
   "metadata": {
    "collapsed": false
   },
   "outputs": [
    {
     "data": {
      "text/plain": [
       "0.80900000000000005"
      ]
     },
     "execution_count": 42,
     "metadata": {},
     "output_type": "execute_result"
    }
   ],
   "source": [
    "accuracy_score(test_labels, pred)"
   ]
  },
  {
   "cell_type": "code",
   "execution_count": 43,
   "metadata": {
    "collapsed": false
   },
   "outputs": [
    {
     "name": "stdout",
     "output_type": "stream",
     "text": [
      "[[ 74   0   0   0   0   5   2   0   4   0]\n",
      " [  0 120   0   0   0   4   1   0   1   0]\n",
      " [  1   7  88   4   0   1   2   3   8   2]\n",
      " [  0   2   1  86   1   6   3   2   3   3]\n",
      " [  1   1   1   0  83   0   2   0   1  21]\n",
      " [  3   1   1  11   2  62   2   3   1   1]\n",
      " [  3   0   4   0   3   4  73   0   0   0]\n",
      " [  0   6   2   0   3   1   0  77   3   7]\n",
      " [  0   2   2   9   4   3   1   2  61   5]\n",
      " [  0   1   0   1   4   0   0   0   3  85]]\n"
     ]
    }
   ],
   "source": [
    "#Question 4\n",
    "# -1 mark: wrong answer, correct approach\n",
    "# -2 marks: wrong approach, no answer\n",
    "\n",
    "from sklearn.preprocessing import normalize\n",
    "cnf_matrix = confusion_matrix(test_labels, pred)\n",
    "print (cnf_matrix)\n",
    "#cnf_matrix_norm = normalize(cnf_matrix,axis=1, norm='l1')\n",
    "#print (np.around(cnf_matrix_norm,2))\n",
    "#Answer: 4-9 (21),5-3 (11), 8-3 (9)"
   ]
  },
  {
   "cell_type": "code",
   "execution_count": 44,
   "metadata": {
    "collapsed": false
   },
   "outputs": [
    {
     "data": {
      "text/plain": [
       "<matplotlib.image.AxesImage at 0x11a8f3ed0>"
      ]
     },
     "execution_count": 44,
     "metadata": {},
     "output_type": "execute_result"
    },
    {
     "data": {
      "image/png": "[encoded data removed]",
      "text/plain": [
       "<matplotlib.figure.Figure at 0x11a578350>"
      ]
     },
     "metadata": {},
     "output_type": "display_data"
    }
   ],
   "source": [
    "plt.imshow(np.reshape(test_data.loc[8], (28,28)))"
   ]
  },
  {
   "cell_type": "code",
   "execution_count": 45,
   "metadata": {
    "collapsed": false
   },
   "outputs": [
    {
     "data": {
      "text/plain": [
       "<matplotlib.image.AxesImage at 0x11a9849d0>"
      ]
     },
     "execution_count": 45,
     "metadata": {},
     "output_type": "execute_result"
    },
    {
     "data": {
      "image/png": "[encoded data removed]",
      "text/plain": [
       "<matplotlib.figure.Figure at 0x1196925d0>"
      ]
     },
     "metadata": {},
     "output_type": "display_data"
    }
   ],
   "source": [
    "plt.imshow(np.reshape(test_data.loc[15], (28,28)))"
   ]
  },
  {
   "cell_type": "markdown",
   "metadata": {},
   "source": [
    "GMM and LDA"
   ]
  },
  {
   "cell_type": "code",
   "execution_count": 46,
   "metadata": {
    "collapsed": false
   },
   "outputs": [
    {
     "name": "stdout",
     "output_type": "stream",
     "text": [
      "Validation accuracy for covariance type full = 0.912280701754\n",
      "Validation accuracy for covariance type tied = 0.859649122807\n",
      "Validation accuracy for covariance type diag = 0.947368421053\n",
      "Validation accuracy for covariance type spherical = 0.973684210526\n"
     ]
    }
   ],
   "source": [
    "from sklearn import datasets\n",
    "\n",
    "bc_data = datasets.load_breast_cancer()\n",
    "\n",
    "n = bc_data.data.shape[0]\n",
    "\n",
    "train_data = bc_data.data[:int(0.4*n)]\n",
    "val_data = bc_data.data[int(0.4*n):int(0.6*n)]\n",
    "test_data = bc_data.data[int(0.6*n):]\n",
    "train_labels = bc_data.target[:int(0.4*n)]\n",
    "val_labels = bc_data.target[int(0.4*n):int(0.6*n)]\n",
    "test_labels = bc_data.target[int(0.6*n):]\n",
    "\n",
    "for cov in ['full', 'tied', 'diag', 'spherical']:\n",
    "    estimator = GaussianMixture(n_components=2,\n",
    "                   covariance_type=cov, random_state=0)\n",
    "\n",
    "    estimator.means_init = np.array([train_data[train_labels == i].mean(axis=0)\n",
    "                                for i in range(2)])\n",
    "    estimator.fit(train_data, train_labels)\n",
    "    pred = estimator.predict(val_data)\n",
    "    print ('Validation accuracy for covariance type '+ cov + ' = ' + str(accuracy_score(val_labels, pred)))"
   ]
  },
  {
   "cell_type": "code",
   "execution_count": 47,
   "metadata": {
    "collapsed": false
   },
   "outputs": [
    {
     "name": "stdout",
     "output_type": "stream",
     "text": [
      "Test accuracy for covariance type spherical = 0.938596491228\n"
     ]
    }
   ],
   "source": [
    "# Best for diag\n",
    "\n",
    "train_data = np.concatenate((train_data, val_data))\n",
    "train_labels = np.concatenate((train_labels, val_labels))\n",
    "\n",
    "estimator = GaussianMixture(n_components=2,\n",
    "                covariance_type='spherical', random_state=0)\n",
    "\n",
    "estimator.means_init = np.array([train_data[train_labels == i].mean(axis=0)\n",
    "                            for i in range(2)])\n",
    "estimator.fit(train_data, train_labels)\n",
    "pred = estimator.predict(test_data)\n",
    "print ('Test accuracy for covariance type '+ cov + ' = ' + str(accuracy_score(test_labels, pred)))"
   ]
  },
  {
   "cell_type": "code",
   "execution_count": 48,
   "metadata": {
    "collapsed": false
   },
   "outputs": [
    {
     "name": "stdout",
     "output_type": "stream",
     "text": [
      "Test accuracy for covariance type spherical = 0.973684210526\n"
     ]
    }
   ],
   "source": [
    "from sklearn.discriminant_analysis import LinearDiscriminantAnalysis\n",
    "\n",
    "# Intialize\n",
    "clf = LinearDiscriminantAnalysis()\n",
    "# Train\n",
    "clf.fit(train_data, train_labels)\n",
    "# Test\n",
    "pred = clf.predict(test_data)\n",
    "\n",
    "print ('Test accuracy for covariance type '+ cov + ' = ' + str(accuracy_score(test_labels, pred)))"
   ]
  },
  {
   "cell_type": "code",
   "execution_count": 55,
   "metadata": {
    "collapsed": false
   },
   "outputs": [
    {
     "data": {
      "text/plain": [
       "array([[-0.00539085, -0.00539085, -0.00539085, -0.00539085, -0.00539085,\n",
       "        -0.00539085, -0.03836087, -0.03836087, -0.00539085, -0.00539085,\n",
       "        -0.00539085, -0.00539085, -0.00539085, -0.00539085, -0.00539085,\n",
       "        -0.00539085, -0.03836087, -0.03836087, -0.00539085, -0.00539085,\n",
       "        -0.00539085, -0.00539085, -0.00539085, -0.00539085, -0.00539085,\n",
       "        -0.00539085, -0.03836087, -0.03836087, -0.00539085, -0.00539085]])"
      ]
     },
     "execution_count": 55,
     "metadata": {},
     "output_type": "execute_result"
    }
   ],
   "source": [
    "clf.coef_"
   ]
  },
  {
   "cell_type": "code",
   "execution_count": 56,
   "metadata": {
    "collapsed": false
   },
   "outputs": [
    {
     "data": {
      "text/plain": [
       "array([-0.61694672])"
      ]
     },
     "execution_count": 56,
     "metadata": {},
     "output_type": "execute_result"
    }
   ],
   "source": [
    "clf.intercept_"
   ]
  },
  {
   "cell_type": "code",
   "execution_count": 73,
   "metadata": {
    "collapsed": false
   },
   "outputs": [
    {
     "data": {
      "text/plain": [
       "BernoulliNB(alpha=1.0, binarize=0.0, class_prior=None, fit_prior=True)"
      ]
     },
     "execution_count": 73,
     "metadata": {},
     "output_type": "execute_result"
    }
   ],
   "source": [
    "#Crosscheck\n",
    "from sklearn.naive_bayes import BernoulliNB\n",
    "clf = BernoulliNB()\n",
    "clf.fit(train_data, train_labels)"
   ]
  },
  {
   "cell_type": "code",
   "execution_count": 74,
   "metadata": {
    "collapsed": true
   },
   "outputs": [],
   "source": [
    "pred = clf.predict(test_data)"
   ]
  },
  {
   "cell_type": "code",
   "execution_count": 75,
   "metadata": {
    "collapsed": false
   },
   "outputs": [
    {
     "data": {
      "text/plain": [
       "0.80900000000000005"
      ]
     },
     "execution_count": 75,
     "metadata": {},
     "output_type": "execute_result"
    }
   ],
   "source": [
    "accuracy_score(test_labels, pred)"
   ]
  },
  {
   "cell_type": "code",
   "execution_count": 76,
   "metadata": {
    "collapsed": false
   },
   "outputs": [
    {
     "data": {
      "text/plain": [
       "array([[-6.38687932, -6.38687932, -6.38687932, ..., -6.38687932,\n",
       "        -6.38687932, -6.38687932],\n",
       "       [-6.51174533, -6.51174533, -6.51174533, ..., -6.51174533,\n",
       "        -6.51174533, -6.51174533],\n",
       "       [-6.36818719, -6.36818719, -6.36818719, ..., -6.36818719,\n",
       "        -6.36818719, -6.36818719],\n",
       "       ..., \n",
       "       [-6.48157713, -6.48157713, -6.48157713, ..., -6.48157713,\n",
       "        -6.48157713, -6.48157713],\n",
       "       [-6.315358  , -6.315358  , -6.315358  , ..., -6.315358  ,\n",
       "        -6.315358  , -6.315358  ],\n",
       "       [-6.4019172 , -6.4019172 , -6.4019172 , ..., -6.4019172 ,\n",
       "        -6.4019172 , -6.4019172 ]])"
      ]
     },
     "execution_count": 76,
     "metadata": {},
     "output_type": "execute_result"
    }
   ],
   "source": [
    "clf.feature_log_prob_"
   ]
  }
 ],
 "metadata": {
  "anaconda-cloud": {},
  "kernelspec": {
   "display_name": "Python [Root]",
   "language": "python",
   "name": "Python [Root]"
  },
  "language_info": {
   "codemirror_mode": {
    "name": "ipython",
    "version": 2
   },
   "file_extension": ".py",
   "mimetype": "text/x-python",
   "name": "python",
   "nbconvert_exporter": "python",
   "pygments_lexer": "ipython2",
   "version": "2.7.13"
  }
 },
 "nbformat": 4,
 "nbformat_minor": 0
}
