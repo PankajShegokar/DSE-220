{
 "cells": [
  {
   "cell_type": "code",
   "execution_count": 2,
   "metadata": {
    "collapsed": true
   },
   "outputs": [],
   "source": [
    "from sklearn.datasets import fetch_20newsgroups\n",
    "from sklearn.model_selection import train_test_split\n",
    "from sklearn.metrics import accuracy_score\n",
    "from sklearn.linear_model import Perceptron\n",
    "from sklearn.feature_extraction.text import TfidfVectorizer, CountVectorizer\n",
    "from nltk.corpus import stopwords\n",
    "from sklearn.svm import SVC\n",
    "import numpy as np\n",
    "import pandas as pd\n",
    "\n",
    "import matplotlib.pyplot as plt\n",
    "%matplotlib inline"
   ]
  },
  {
   "cell_type": "code",
   "execution_count": 3,
   "metadata": {
    "collapsed": true
   },
   "outputs": [],
   "source": [
    "#Question 1"
   ]
  },
  {
   "cell_type": "code",
   "execution_count": 8,
   "metadata": {
    "collapsed": false
   },
   "outputs": [],
   "source": [
    "data = pd.read_csv('wine_original.csv')\n",
    "labels = data['class']\n",
    "del data['class']\n",
    "\n",
    "X_train, X_test, y_train, y_test = train_test_split(data, labels, test_size=0.2, random_state=3)"
   ]
  },
  {
   "cell_type": "code",
   "execution_count": 9,
   "metadata": {
    "collapsed": false
   },
   "outputs": [
    {
     "name": "stdout",
     "output_type": "stream",
     "text": [
      "Fitting 3 folds for each of 16 candidates, totalling 48 fits\n",
      "Selected Parameters:  {'C': 1, 'penalty': 'l1'}\n",
      "Training Accuracy = 0.992957746479\n",
      "Test Accuracy = 0.888888888889\n"
     ]
    },
    {
     "name": "stderr",
     "output_type": "stream",
     "text": [
      "[Parallel(n_jobs=-1)]: Done  48 out of  48 | elapsed:    0.3s finished\n"
     ]
    }
   ],
   "source": [
    "from sklearn.linear_model import LogisticRegression\n",
    "from sklearn.model_selection import GridSearchCV\n",
    "from sklearn.metrics import accuracy_score\n",
    "\n",
    "parameters = { 'penalty': ['l1','l2'], \n",
    "              'C':[0.1, 0.5, 1, 2, 3, 4, 5, 10]}\n",
    "logreg = LogisticRegression()\n",
    "clf = GridSearchCV(logreg, parameters, verbose=True, n_jobs=-1)\n",
    "clf.fit(X_train, y_train)\n",
    "y_pred = clf.predict(X_test)\n",
    "\n",
    "accuracy = accuracy_score(y_pred, y_test)\n",
    "train_acc = accuracy_score(clf.predict(X_train), y_train)\n",
    "print ('Selected Parameters: ', clf.best_params_)\n",
    "print ('Training Accuracy = ' + str(train_acc))\n",
    "print ('Test Accuracy = ' + str(accuracy))"
   ]
  },
  {
   "cell_type": "code",
   "execution_count": null,
   "metadata": {
    "collapsed": false
   },
   "outputs": [],
   "source": []
  },
  {
   "cell_type": "code",
   "execution_count": null,
   "metadata": {
    "collapsed": true
   },
   "outputs": [],
   "source": []
  },
  {
   "cell_type": "code",
   "execution_count": null,
   "metadata": {
    "collapsed": true
   },
   "outputs": [],
   "source": []
  },
  {
   "cell_type": "code",
   "execution_count": 130,
   "metadata": {
    "collapsed": false
   },
   "outputs": [],
   "source": [
    "# Data Processing SVM\n",
    "categories = ['alt.atheism', 'comp.graphics', 'sci.space', 'talk.politics.mideast']\n",
    "newsgroups_train = fetch_20newsgroups(subset='train', remove=('headers', 'footers', 'quotes'), categories=categories)\n",
    "newsgroups_test = fetch_20newsgroups(subset='test', remove=('headers', 'footers', 'quotes'), categories=categories)"
   ]
  },
  {
   "cell_type": "code",
   "execution_count": 131,
   "metadata": {
    "collapsed": false
   },
   "outputs": [],
   "source": [
    "stop = set(stopwords.words('english'))"
   ]
  },
  {
   "cell_type": "code",
   "execution_count": 15,
   "metadata": {
    "collapsed": false
   },
   "outputs": [],
   "source": [
    "# Stopwords, lowercase\n",
    "vectorizer = TfidfVectorizer(stop_words=stop, lowercase=True, max_features=2000)\n",
    "train_vectors = vectorizer.fit_transform(newsgroups_train.data)\n",
    "test_vectors = vectorizer.transform(newsgroups_test.data)"
   ]
  },
  {
   "cell_type": "markdown",
   "metadata": {},
   "source": [
    "# Perceptron"
   ]
  },
  {
   "cell_type": "code",
   "execution_count": 133,
   "metadata": {
    "collapsed": false
   },
   "outputs": [
    {
     "name": "stdout",
     "output_type": "stream",
     "text": [
      "Test accuracy = 0.803112313938\n"
     ]
    }
   ],
   "source": [
    "#Question 2\n",
    "\n",
    "# Model\n",
    "clf = Perceptron(penalty=None)\n",
    "# fit\n",
    "clf.fit(train_vectors, newsgroups_train.target)\n",
    "# predict\n",
    "pred = clf.predict(test_vectors)\n",
    "#evaluate\n",
    "print ('Test accuracy = ' + str(accuracy_score(newsgroups_test.target, pred)))"
   ]
  },
  {
   "cell_type": "code",
   "execution_count": 135,
   "metadata": {
    "collapsed": false
   },
   "outputs": [
    {
     "name": "stdout",
     "output_type": "stream",
     "text": [
      "Test accuracy = 0.606901217862\n",
      "Test accuracy = 0.673207036536\n",
      "Test accuracy = 0.730040595399\n",
      "Test accuracy = 0.742219215156\n",
      "Test accuracy = 0.752368064953\n",
      "Test accuracy = 0.768606224628\n",
      "Test accuracy = 0.790933694181\n",
      "Test accuracy = 0.812584573748\n",
      "Test accuracy = 0.816644113667\n",
      "Test accuracy = 0.803112313938\n"
     ]
    }
   ],
   "source": [
    "#Question 3\n",
    "\n",
    "result = []\n",
    "for data_size in [100, 200, 500, 1000, 1500, 2000, 4000, 10000, 20000, 30000]:\n",
    "    vectorizer = TfidfVectorizer(stop_words=stop, lowercase=True, max_features=data_size)\n",
    "    train_vectors = vectorizer.fit_transform(newsgroups_train.data)\n",
    "    test_vectors = vectorizer.transform(newsgroups_test.data)\n",
    "    clf = Perceptron(penalty=None)\n",
    "    clf.fit(train_vectors, newsgroups_train.target)\n",
    "    pred = clf.predict(test_vectors)\n",
    "    print ('Test accuracy = ' + str(accuracy_score(newsgroups_test.target, pred)))\n",
    "    result.append(1-accuracy_score(newsgroups_test.target, pred))"
   ]
  },
  {
   "cell_type": "code",
   "execution_count": 136,
   "metadata": {
    "collapsed": false
   },
   "outputs": [
    {
     "data": {
      "text/plain": [
       "[<matplotlib.lines.Line2D at 0x111c72ef0>]"
      ]
     },
     "execution_count": 136,
     "metadata": {},
     "output_type": "execute_result"
    },
    {
     "data": {
      "image/png": "[encoded data removed]",
      "text/plain": [
       "<matplotlib.figure.Figure at 0x11122a630>"
      ]
     },
     "metadata": {},
     "output_type": "display_data"
    }
   ],
   "source": [
    "plt.figure(figsize=(15,10))\n",
    "plt.plot([100, 200, 500, 1000, 1500, 2000, 4000, 10000, 20000, 30000], result)"
   ]
  },
  {
   "cell_type": "markdown",
   "metadata": {},
   "source": [
    "# SVM"
   ]
  },
  {
   "cell_type": "code",
   "execution_count": 141,
   "metadata": {
    "collapsed": false
   },
   "outputs": [
    {
     "name": "stdout",
     "output_type": "stream",
     "text": [
      "Test accuracy : 0.832882273342\n"
     ]
    }
   ],
   "source": [
    "#Question 4\n",
    "\n",
    "clf = SVC(kernel='linear')\n",
    "clf.fit(train_vectors, newsgroups_train.target)\n",
    "pred = clf.predict(test_vectors)\n",
    "print ('Test accuracy : ' + str(accuracy_score(newsgroups_test.target, pred)))"
   ]
  },
  {
   "cell_type": "code",
   "execution_count": 145,
   "metadata": {
    "collapsed": false
   },
   "outputs": [
    {
     "name": "stdout",
     "output_type": "stream",
     "text": [
      "Test accuracy = 0.652232746955\n",
      "Test accuracy = 0.692151556157\n",
      "Test accuracy = 0.742219215156\n",
      "Test accuracy = 0.767253044655\n",
      "Test accuracy = 0.776725304465\n",
      "Test accuracy = 0.78552097429\n",
      "Test accuracy = 0.821380243572\n",
      "Test accuracy = 0.832882273342\n",
      "Test accuracy = 0.831529093369\n",
      "Test accuracy = 0.832882273342\n"
     ]
    }
   ],
   "source": [
    "# Question 5\n",
    "\n",
    "result = []\n",
    "for data_size in [100, 200, 500, 1000, 1500, 2000, 4000, 10000, 20000, 30000]:\n",
    "    vectorizer = TfidfVectorizer(stop_words=stop, lowercase=True, max_features=data_size)\n",
    "    train_vectors = vectorizer.fit_transform(newsgroups_train.data)\n",
    "    test_vectors = vectorizer.transform(newsgroups_test.data)\n",
    "    clf = SVC(kernel='linear')\n",
    "    clf.fit(train_vectors, newsgroups_train.target)\n",
    "    pred = clf.predict(test_vectors)\n",
    "    print ('Test accuracy = ' + str(accuracy_score(newsgroups_test.target, pred)))\n",
    "    result.append(1-accuracy_score(newsgroups_test.target, pred))"
   ]
  },
  {
   "cell_type": "code",
   "execution_count": 146,
   "metadata": {
    "collapsed": false
   },
   "outputs": [
    {
     "data": {
      "text/plain": [
       "[<matplotlib.lines.Line2D at 0x11240bc88>]"
      ]
     },
     "execution_count": 146,
     "metadata": {},
     "output_type": "execute_result"
    },
    {
     "data": {
      "image/png": "[encoded data removed]",
      "text/plain": [
       "<matplotlib.figure.Figure at 0x111a164e0>"
      ]
     },
     "metadata": {},
     "output_type": "display_data"
    }
   ],
   "source": [
    "plt.figure(figsize=(15,10))\n",
    "plt.plot([100, 200, 500, 1000, 1500, 2000, 4000, 10000, 20000, 30000], result)"
   ]
  },
  {
   "cell_type": "code",
   "execution_count": 148,
   "metadata": {
    "collapsed": true
   },
   "outputs": [],
   "source": [
    "X_train, X_valid, y_train, y_valid = train_test_split(train_vectors, newsgroups_train.target, test_size=0.2, random_state=10)"
   ]
  },
  {
   "cell_type": "code",
   "execution_count": 149,
   "metadata": {
    "collapsed": false
   },
   "outputs": [
    {
     "name": "stdout",
     "output_type": "stream",
     "text": [
      "Valid accuracy for C= 0.01 : 0.244943820225\n",
      "Valid accuracy for C= 0.1 : 0.624719101124\n",
      "Valid accuracy for C= 1 : 0.880898876404\n",
      "Valid accuracy for C= 10 : 0.87191011236\n",
      "Valid accuracy for C= 100 : 0.833707865169\n"
     ]
    }
   ],
   "source": [
    "# Question 6\n",
    "\n",
    "for cost in [0.01,0.1,1,10,100]:\n",
    "    clf = SVC(kernel='linear', C=cost)\n",
    "    clf.fit(X_train, y_train)\n",
    "    pred = clf.predict(X_valid)\n",
    "    print ('Valid accuracy for C= '+ str(cost) + ' : ' + str(accuracy_score(y_valid, pred)))"
   ]
  },
  {
   "cell_type": "code",
   "execution_count": 150,
   "metadata": {
    "collapsed": false
   },
   "outputs": [
    {
     "name": "stdout",
     "output_type": "stream",
     "text": [
      "Test accuracy for C = 1 : 0.832882273342\n"
     ]
    }
   ],
   "source": [
    "clf = SVC(kernel='linear', C=1)\n",
    "clf.fit(train_vectors, newsgroups_train.target)\n",
    "pred = clf.predict(test_vectors)\n",
    "print ('Test accuracy for C = '+ str(1) + ' : ' + str(accuracy_score(newsgroups_test.target, pred)))"
   ]
  },
  {
   "cell_type": "code",
   "execution_count": 164,
   "metadata": {
    "collapsed": false
   },
   "outputs": [
    {
     "name": "stdout",
     "output_type": "stream",
     "text": [
      "Validation accuracy for kernel = linear : 0.833707865169\n",
      "Validation accuracy for kernel = rbf : 0.862921348315\n",
      "Validation accuracy for kernel = sigmoid : 0.83595505618\n"
     ]
    }
   ],
   "source": [
    "#Question 7\n",
    "\n",
    "for kernel in ['linear', 'rbf', 'sigmoid']:\n",
    "    clf = SVC(kernel=kernel, C=10000)\n",
    "    clf.fit(X_train, y_train)\n",
    "    pred = clf.predict(X_valid)\n",
    "    print ('Validation accuracy for kernel = '+ kernel + ' : ' + str(accuracy_score(y_valid, pred)))"
   ]
  },
  {
   "cell_type": "code",
   "execution_count": 170,
   "metadata": {
    "collapsed": false
   },
   "outputs": [
    {
     "name": "stdout",
     "output_type": "stream",
     "text": [
      "Validation accuracy for kernel = poly 1 : 0.83595505618\n",
      "Validation accuracy for kernel = poly 2 : 0.244943820225\n",
      "Validation accuracy for kernel = poly 3 : 0.244943820225\n",
      "Validation accuracy for kernel = poly 4 : 0.244943820225\n",
      "Validation accuracy for kernel = poly 5 : 0.244943820225\n"
     ]
    }
   ],
   "source": [
    "for deg in range(1,6):\n",
    "    clf = SVC(kernel='poly', degree=deg , C=10000)\n",
    "    clf.fit(X_train, y_train)\n",
    "    pred = clf.predict(X_valid)\n",
    "    print ('Validation accuracy for kernel = poly '+ str(deg) + ' : ' + str(accuracy_score(y_valid, pred)))"
   ]
  },
  {
   "cell_type": "code",
   "execution_count": 169,
   "metadata": {
    "collapsed": false
   },
   "outputs": [
    {
     "name": "stdout",
     "output_type": "stream",
     "text": [
      "Test accuracy for kernel = rbf0.832882273342\n"
     ]
    }
   ],
   "source": [
    "#Selecting rbf kernel\n",
    "\n",
    "clf = SVC(kernel='rbf', degree=deg , C=10000)\n",
    "clf.fit(train_vectors, newsgroups_train.target)\n",
    "pred = clf.predict(test_vectors)\n",
    "print ('Test accuracy for kernel = rbf' + str(accuracy_score(newsgroups_test.target, pred)))"
   ]
  },
  {
   "cell_type": "code",
   "execution_count": 171,
   "metadata": {
    "collapsed": true
   },
   "outputs": [],
   "source": [
    "from sklearn.metrics.pairwise import polynomial_kernel, rbf_kernel, cosine_similarity, laplacian_kernel"
   ]
  },
  {
   "cell_type": "code",
   "execution_count": 173,
   "metadata": {
    "collapsed": false
   },
   "outputs": [
    {
     "name": "stdout",
     "output_type": "stream",
     "text": [
      "Test accuracy = 0.832882273342\n"
     ]
    }
   ],
   "source": [
    "# Question 8\n",
    "\n",
    "def my_kernel_cosine(X,Y):\n",
    "    return cosine_similarity(X, Y)\n",
    "\n",
    "clf = SVC(kernel=my_kernel_cosine)\n",
    "clf.fit(train_vectors, newsgroups_train.target)\n",
    "pred = clf.predict(test_vectors)\n",
    "print ('Test accuracy = ' +  str(accuracy_score(newsgroups_test.target, pred)))"
   ]
  },
  {
   "cell_type": "code",
   "execution_count": 226,
   "metadata": {
    "collapsed": false
   },
   "outputs": [
    {
     "name": "stdout",
     "output_type": "stream",
     "text": [
      "Test accuracy = 0.266576454668\n"
     ]
    }
   ],
   "source": [
    "def my_kernel_laplacian(X,Y):\n",
    "    return laplacian_kernel(X, Y)\n",
    "\n",
    "clf = SVC(kernel=my_kernel_laplacian)\n",
    "clf.fit(train_vectors, newsgroups_train.target)\n",
    "pred = clf.predict(test_vectors)\n",
    "print ('Test accuracy = ' +  str(accuracy_score(newsgroups_test.target, pred)))"
   ]
  },
  {
   "cell_type": "code",
   "execution_count": null,
   "metadata": {
    "collapsed": false
   },
   "outputs": [],
   "source": [
    "# def my_kernel(alpha):\n",
    "#     return lambda X, Y: alpha*polynomial_kernel(X, Y, degree=1) + (1-alpha)*rbf_kernel(X, Y, gamma=1)"
   ]
  },
  {
   "cell_type": "code",
   "execution_count": 224,
   "metadata": {
    "collapsed": true
   },
   "outputs": [],
   "source": [
    "# Question 9\n",
    "\n",
    "def my_gram(X, Y, alpha):\n",
    "#     alpha=0.5\n",
    "    return alpha*cosine_similarity(X, Y) + (1-alpha)*laplacian_kernel(X, Y)"
   ]
  },
  {
   "cell_type": "code",
   "execution_count": 225,
   "metadata": {
    "collapsed": false
   },
   "outputs": [
    {
     "name": "stdout",
     "output_type": "stream",
     "text": [
      "Validation accuracy for alpha = 0.0 : 0.244943820225\n",
      "Validation accuracy for alpha = 0.1 : 0.626966292135\n",
      "Validation accuracy for alpha = 0.2 : 0.791011235955\n",
      "Validation accuracy for alpha = 0.3 : 0.829213483146\n",
      "Validation accuracy for alpha = 0.4 : 0.851685393258\n",
      "Validation accuracy for alpha = 0.5 : 0.860674157303\n",
      "Validation accuracy for alpha = 0.6 : 0.862921348315\n",
      "Validation accuracy for alpha = 0.7 : 0.865168539326\n",
      "Validation accuracy for alpha = 0.8 : 0.869662921348\n",
      "Validation accuracy for alpha = 0.9 : 0.87191011236\n",
      "Validation accuracy for alpha = 1.0 : 0.880898876404\n"
     ]
    }
   ],
   "source": [
    "for alpha in np.arange(0,1.1,0.1):\n",
    "    k_train = my_gram(X_train, X_train, alpha)\n",
    "    k_valid = my_gram(X_valid, X_train, alpha)\n",
    "    clf = SVC(kernel='precomputed')\n",
    "    clf.fit(k_train, y_train)\n",
    "    pred = clf.predict(k_valid)\n",
    "    print ('Validation accuracy for alpha = '+ str(alpha) + ' : ' + str(accuracy_score(y_valid, pred)))"
   ]
  },
  {
   "cell_type": "code",
   "execution_count": 204,
   "metadata": {
    "collapsed": false
   },
   "outputs": [
    {
     "name": "stdout",
     "output_type": "stream",
     "text": [
      "Test accuracy for alpha = 0.2 : 0.266576454668\n"
     ]
    }
   ],
   "source": [
    "alpha = 0.2\n",
    "k_train = my_gram(train_vectors, train_vectors, alpha)\n",
    "k_test = my_gram(test_vectors, train_vectors, alpha)\n",
    "clf = SVC(kernel='precomputed', C=10)\n",
    "clf.fit(k_train, newsgroups_train.target)\n",
    "pred = clf.predict(k_test)\n",
    "print ('Test accuracy for alpha = '+ str(alpha) + ' : ' + str(accuracy_score(newsgroups_test.target, pred)))"
   ]
  },
  {
   "cell_type": "code",
   "execution_count": null,
   "metadata": {
    "collapsed": true
   },
   "outputs": [],
   "source": []
  }
 ],
 "metadata": {
  "anaconda-cloud": {},
  "kernelspec": {
   "display_name": "Python [py35]",
   "language": "python",
   "name": "Python [py35]"
  },
  "language_info": {
   "codemirror_mode": {
    "name": "ipython",
    "version": 3
   },
   "file_extension": ".py",
   "mimetype": "text/x-python",
   "name": "python",
   "nbconvert_exporter": "python",
   "pygments_lexer": "ipython3",
   "version": "3.5.2"
  }
 },
 "nbformat": 4,
 "nbformat_minor": 0
}
